{
 "cells": [
  {
   "cell_type": "markdown",
   "metadata": {},
   "source": [
    "### student scrapper activity\n",
    "scrape categories and all books for each category and then insert into mongo db"
   ]
  },
  {
   "cell_type": "code",
   "execution_count": null,
   "metadata": {},
   "outputs": [],
   "source": [
    "from splinter import Browser\n",
    "from bs4 import BeautifulSoup\n",
    "from urllib.parse import urljoin\n",
    "import pymongo"
   ]
  },
  {
   "cell_type": "code",
   "execution_count": null,
   "metadata": {},
   "outputs": [],
   "source": [
    "browser = Browser('chrome')"
   ]
  },
  {
   "cell_type": "code",
   "execution_count": null,
   "metadata": {},
   "outputs": [],
   "source": [
    "def get_soup(url):\n",
    "    browser.visit(url)\n",
    "    html = browser.html    \n",
    "    soup = BeautifulSoup(html, 'html.parser')\n",
    "    return soup"
   ]
  },
  {
   "cell_type": "code",
   "execution_count": null,
   "metadata": {},
   "outputs": [],
   "source": [
    "def get_categories():\n",
    "    soup = get_soup('http://books.toscrape.com/')\n",
    "    \n",
    "    sidebar = soup.find('ul', class_='nav nav-list')\n",
    "    catogeries_html = sidebar.ul.find_all('a')\n",
    "    categories = []\n",
    "    for category in catogeries_html:\n",
    "        data = { 'category' : category.text.strip() ,\n",
    "        'href' : 'http://books.toscrape.com/' + category['href']\n",
    "        }\n",
    "        categories.append(data)\n",
    "    return categories;"
   ]
  },
  {
   "cell_type": "code",
   "execution_count": null,
   "metadata": {},
   "outputs": [],
   "source": [
    "def get_articles():\n",
    "    html = browser.html    \n",
    "    soup = BeautifulSoup(html, 'html.parser')\n",
    "    articles = soup.find_all('article', class_='product_pod')\n",
    "    return articles"
   ]
  },
  {
   "cell_type": "code",
   "execution_count": null,
   "metadata": {},
   "outputs": [],
   "source": [
    "def get_books_in_article(url , articles):\n",
    "    books = []\n",
    "    for article in articles:\n",
    "        book ={\n",
    "            'title' : article.h3.a.text,\n",
    "            'href' : urljoin(url,article.h3.a['href'])\n",
    "        }\n",
    "        books.append(book)\n",
    "    return books"
   ]
  },
  {
   "cell_type": "code",
   "execution_count": null,
   "metadata": {},
   "outputs": [],
   "source": [
    "def scrape_all_books(url):\n",
    "    more_books = True\n",
    "    first_iterations = True\n",
    "    iterations = 0\n",
    "    books = []\n",
    "    while more_books:\n",
    "#         soup = get_soup(url)\n",
    "        iterations += 1\n",
    "        if first_iterations:\n",
    "            browser.visit(url)\n",
    "            first_iterations = False\n",
    "        else:\n",
    "            pass\n",
    "        articles = get_articles()\n",
    "        books_for_article = get_books_in_article(url, articles)\n",
    "        books.append(books_for_article)\n",
    "        #         if iterations > 3:\n",
    "#             more_books=False\n",
    "        more_books=True\n",
    "        try:\n",
    "            browser.links.find_by_partial_text('next').click()          \n",
    "        except:\n",
    "#             print(\"Scraping Complete\")\n",
    "            more_books = False\n",
    "    return books"
   ]
  },
  {
   "cell_type": "code",
   "execution_count": null,
   "metadata": {},
   "outputs": [],
   "source": [
    "categories = get_categories()"
   ]
  },
  {
   "cell_type": "code",
   "execution_count": null,
   "metadata": {},
   "outputs": [],
   "source": []
  },
  {
   "cell_type": "code",
   "execution_count": null,
   "metadata": {},
   "outputs": [],
   "source": [
    "for category in categories:\n",
    "    print(f\"Scrapping for {category['category']}....\")\n",
    "    books = scrape_all_books(category['href'])\n",
    "    category['books'] = books"
   ]
  },
  {
   "cell_type": "code",
   "execution_count": null,
   "metadata": {},
   "outputs": [],
   "source": [
    "browser.quit()"
   ]
  },
  {
   "cell_type": "code",
<<<<<<< HEAD
   "execution_count": 11,
=======
   "execution_count": null,
>>>>>>> bea5641796574594925c66cec23d1b56877f33df
   "metadata": {},
   "outputs": [],
   "source": [
    "def save_books(books):\n",
    "    conn = 'mongodb://localhost:27017'\n",
    "    client = pymongo.MongoClient(conn)\n",
    "    db = client.books\n",
    "    collection = db.books\n",
    "    collection.insert_many(categories)\n"
   ]
  },
  {
   "cell_type": "code",
<<<<<<< HEAD
   "execution_count": 12,
=======
   "execution_count": null,
>>>>>>> bea5641796574594925c66cec23d1b56877f33df
   "metadata": {},
   "outputs": [],
   "source": [
    "save_books(categories)"
   ]
  },
  {
   "cell_type": "code",
   "execution_count": null,
   "metadata": {},
   "outputs": [],
   "source": []
  }
 ],
 "metadata": {
  "kernelspec": {
   "display_name": "Python 3",
   "language": "python",
   "name": "python3"
  },
  "language_info": {
   "codemirror_mode": {
    "name": "ipython",
    "version": 3
   },
   "file_extension": ".py",
   "mimetype": "text/x-python",
   "name": "python",
   "nbconvert_exporter": "python",
   "pygments_lexer": "ipython3",
   "version": "3.8.5"
  }
 },
 "nbformat": 4,
 "nbformat_minor": 4
}
