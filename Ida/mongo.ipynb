{
 "cells": [
  {
   "cell_type": "code",
   "execution_count": 14,
   "metadata": {},
   "outputs": [],
   "source": [
    "import pymongo"
   ]
  },
  {
   "cell_type": "code",
   "execution_count": 15,
   "metadata": {},
   "outputs": [],
   "source": [
    "# establish the connection\n",
    "conn = 'mongodb://localhost:27017'\n",
    "client = pymongo.MongoClient(conn)\n",
    "\n",
    "# define the databse we're using \n",
    "db = client['ETLprojectfinal']"
   ]
  },
  {
   "cell_type": "code",
   "execution_count": 16,
   "metadata": {},
   "outputs": [],
   "source": [
    "collection = db['insertion']"
   ]
  },
  {
   "cell_type": "code",
   "execution_count": 11,
   "metadata": {},
   "outputs": [
    {
     "name": "stdout",
     "output_type": "stream",
     "text": [
      "{'_id': ObjectId('5fcaed6d8854484baa6fc3d0'), 'name': 'Ahmed', 'row': 3, 'favorite_python_library': 'Matplotlib', 'hobbies': ['Running', 'Stargazing', 'Reading']}\n",
      "{'_id': ObjectId('5fcaefa64c92f9d508663095'), 'name': 'Ahmed', 'row': 3, 'favorite_python_library': 'Matplotlib', 'hobbies': ['Running', 'Stargazing', 'Reading']}\n"
     ]
    }
   ],
   "source": [
    "# query the students to refer to the collection above\n",
    "classroom = collection.find()\n",
    "\n",
    "# create loop\n",
    "for student in classroom:\n",
    "    print(student)"
   ]
  },
  {
   "cell_type": "code",
   "execution_count": 13,
   "metadata": {},
   "outputs": [
    {
     "name": "stdout",
     "output_type": "stream",
     "text": [
      "{'_id': ObjectId('5fcaed6d8854484baa6fc3d0'), 'name': 'Ahmed', 'row': 3, 'favorite_python_library': 'Matplotlib', 'hobbies': ['Running', 'Stargazing', 'Reading']}\n",
      "{'_id': ObjectId('5fcaefa64c92f9d508663095'), 'name': 'Ahmed', 'row': 3, 'favorite_python_library': 'Matplotlib', 'hobbies': ['Running', 'Stargazing', 'Reading']}\n",
      "{'_id': ObjectId('5fcaefbb4c92f9d508663097'), 'name': 'Ahmed', 'row': 3, 'favorite_python_library': 'Matplotlib', 'hobbies': ['Running', 'Stargazing', 'Reading']}\n",
      "{'_id': ObjectId('5fcaefed4c92f9d508663098'), 'name': 'Ahmed', 'row': 3, 'favorite_python_library': 'Matplotlib', 'hobbies': ['Running', 'Stargazing', 'Reading']}\n"
     ]
    }
   ],
   "source": [
    "# create collections\n",
    "\n",
    "collection.insert_one(\n",
    "    {\n",
    "        'name':'Ahmed',\n",
    "        'row':3,\n",
    "        'favorite_python_library':'Matplotlib',\n",
    "        'hobbies':['Running', 'Stargazing', 'Reading']\n",
    "    }\n",
    ")\n",
    "\n",
    "classroom = collection.find()\n",
    "\n",
    "for student in classroom:\n",
    "    print(student)"
   ]
  },
  {
   "cell_type": "code",
   "execution_count": null,
   "metadata": {},
   "outputs": [],
   "source": []
  },
  {
   "cell_type": "code",
   "execution_count": null,
   "metadata": {},
   "outputs": [],
   "source": []
  }
 ],
 "metadata": {
  "kernelspec": {
   "display_name": "Python 3",
   "language": "python",
   "name": "python3"
  },
  "language_info": {
   "codemirror_mode": {
    "name": "ipython",
    "version": 3
   },
   "file_extension": ".py",
   "mimetype": "text/x-python",
   "name": "python",
   "nbconvert_exporter": "python",
   "pygments_lexer": "ipython3",
   "version": "3.8.3"
  }
 },
 "nbformat": 4,
 "nbformat_minor": 4
}
